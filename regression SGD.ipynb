{
 "metadata": {
  "language_info": {
   "codemirror_mode": {
    "name": "ipython",
    "version": 3
   },
   "file_extension": ".py",
   "mimetype": "text/x-python",
   "name": "python",
   "nbconvert_exporter": "python",
   "pygments_lexer": "ipython3",
   "version": "3.7.7-final"
  },
  "orig_nbformat": 2,
  "kernelspec": {
   "name": "python3",
   "display_name": "Python 3.7.7 64-bit ('watergate': conda)",
   "metadata": {
    "interpreter": {
     "hash": "5c5da34c7a7f29f48d37b97c0200a935766484cf51db035f04b87fecad5c3188"
    }
   }
  }
 },
 "nbformat": 4,
 "nbformat_minor": 2,
 "cells": [
  {
   "source": [
    "# Linear Regression with SGD"
   ],
   "cell_type": "markdown",
   "metadata": {}
  },
  {
   "cell_type": "code",
   "execution_count": 1,
   "metadata": {},
   "outputs": [],
   "source": [
    "import pandas as pd \n",
    "import numpy as np\n",
    "import matplotlib.pyplot as plt \n",
    "from sklearn.model_selection import train_test_split\n",
    "from sklearn.linear_model import LinearRegression "
   ]
  },
  {
   "cell_type": "code",
   "execution_count": 13,
   "metadata": {},
   "outputs": [
    {
     "output_type": "execute_result",
     "data": {
      "text/plain": [
       "   envio_t  numero_cajas  distancia\n",
       "0    16.68             7        560\n",
       "1    11.50             3        220\n",
       "2    12.03             3        340\n",
       "3    14.88             4         80\n",
       "4    13.75             6        150"
      ],
      "text/html": "<div>\n<style scoped>\n    .dataframe tbody tr th:only-of-type {\n        vertical-align: middle;\n    }\n\n    .dataframe tbody tr th {\n        vertical-align: top;\n    }\n\n    .dataframe thead th {\n        text-align: right;\n    }\n</style>\n<table border=\"1\" class=\"dataframe\">\n  <thead>\n    <tr style=\"text-align: right;\">\n      <th></th>\n      <th>envio_t</th>\n      <th>numero_cajas</th>\n      <th>distancia</th>\n    </tr>\n  </thead>\n  <tbody>\n    <tr>\n      <th>0</th>\n      <td>16.68</td>\n      <td>7</td>\n      <td>560</td>\n    </tr>\n    <tr>\n      <th>1</th>\n      <td>11.50</td>\n      <td>3</td>\n      <td>220</td>\n    </tr>\n    <tr>\n      <th>2</th>\n      <td>12.03</td>\n      <td>3</td>\n      <td>340</td>\n    </tr>\n    <tr>\n      <th>3</th>\n      <td>14.88</td>\n      <td>4</td>\n      <td>80</td>\n    </tr>\n    <tr>\n      <th>4</th>\n      <td>13.75</td>\n      <td>6</td>\n      <td>150</td>\n    </tr>\n  </tbody>\n</table>\n</div>"
     },
     "metadata": {},
     "execution_count": 13
    }
   ],
   "source": [
    "url = 'C:/Users/Dave/Pictures/linearregre/envio.csv'\n",
    "dataset = pd.read_csv(url, sep = ';')\n",
    "dataset.head()"
   ]
  },
  {
   "cell_type": "code",
   "execution_count": 3,
   "metadata": {},
   "outputs": [
    {
     "output_type": "execute_result",
     "data": {
      "text/plain": [
       "(array([[   7,  560],\n",
       "        [   3,  220],\n",
       "        [   3,  340],\n",
       "        [   4,   80],\n",
       "        [   6,  150],\n",
       "        [   7,  330],\n",
       "        [   2,  110],\n",
       "        [   7,  210],\n",
       "        [  30, 1460],\n",
       "        [   5,  605],\n",
       "        [  16,  688],\n",
       "        [  10,  215],\n",
       "        [   4,  255],\n",
       "        [   6,  462],\n",
       "        [   9,  448],\n",
       "        [  10,  776],\n",
       "        [   6,  200],\n",
       "        [   7,  132],\n",
       "        [   3,   36],\n",
       "        [  17,  770],\n",
       "        [  10,  140],\n",
       "        [  26,  810],\n",
       "        [   9,  450],\n",
       "        [   8,  635],\n",
       "        [   4,  150]], dtype=int64),\n",
       " array([[16.68],\n",
       "        [11.5 ],\n",
       "        [12.03],\n",
       "        [14.88],\n",
       "        [13.75],\n",
       "        [18.11],\n",
       "        [ 8.  ],\n",
       "        [17.83],\n",
       "        [79.24],\n",
       "        [21.5 ],\n",
       "        [40.33],\n",
       "        [21.  ],\n",
       "        [13.5 ],\n",
       "        [19.75],\n",
       "        [24.  ],\n",
       "        [29.  ],\n",
       "        [15.35],\n",
       "        [19.  ],\n",
       "        [ 9.5 ],\n",
       "        [35.1 ],\n",
       "        [17.9 ],\n",
       "        [52.32],\n",
       "        [18.75],\n",
       "        [19.83],\n",
       "        [10.75]]))"
      ]
     },
     "metadata": {},
     "execution_count": 3
    }
   ],
   "source": [
    "Y = dataset.iloc[:,:-2].values\n",
    "X = dataset.iloc[:,1:].values\n",
    "X,Y"
   ]
  },
  {
   "cell_type": "code",
   "execution_count": 4,
   "metadata": {},
   "outputs": [],
   "source": [
    "X_train, X_test, Y_train, Y_test = train_test_split(X, Y, test_size = 0.2, random_state = 0)"
   ]
  },
  {
   "cell_type": "code",
   "execution_count": 5,
   "metadata": {},
   "outputs": [
    {
     "output_type": "execute_result",
     "data": {
      "text/plain": [
       "array([[   9,  450],\n",
       "       [   7,  132],\n",
       "       [   4,  150],\n",
       "       [   8,  635],\n",
       "       [   9,  448],\n",
       "       [   3,  220],\n",
       "       [  16,  688],\n",
       "       [   6,  462],\n",
       "       [  30, 1460],\n",
       "       [   2,  110],\n",
       "       [   3,   36],\n",
       "       [   6,  150],\n",
       "       [   5,  605],\n",
       "       [   7,  210],\n",
       "       [  10,  140],\n",
       "       [   4,   80],\n",
       "       [   7,  560],\n",
       "       [  26,  810],\n",
       "       [  10,  776],\n",
       "       [   4,  255]], dtype=int64)"
      ]
     },
     "metadata": {},
     "execution_count": 5
    }
   ],
   "source": [
    "X_train"
   ]
  },
  {
   "cell_type": "code",
   "execution_count": 6,
   "metadata": {},
   "outputs": [
    {
     "output_type": "execute_result",
     "data": {
      "text/plain": [
       "LinearRegression()"
      ]
     },
     "metadata": {},
     "execution_count": 6
    }
   ],
   "source": [
    "regressor = LinearRegression()\n",
    "regressor.fit(X_train, Y_train)"
   ]
  },
  {
   "cell_type": "code",
   "execution_count": 7,
   "metadata": {},
   "outputs": [
    {
     "output_type": "execute_result",
     "data": {
      "text/plain": [
       "0.8631658854722792"
      ]
     },
     "metadata": {},
     "execution_count": 7
    }
   ],
   "source": [
    "regressor.score(X_test, Y_test)"
   ]
  },
  {
   "cell_type": "code",
   "execution_count": 8,
   "metadata": {},
   "outputs": [],
   "source": [
    "t = np.array([[4, 400]])"
   ]
  },
  {
   "cell_type": "code",
   "execution_count": 9,
   "metadata": {},
   "outputs": [
    {
     "output_type": "execute_result",
     "data": {
      "text/plain": [
       "array([[14.65900438]])"
      ]
     },
     "metadata": {},
     "execution_count": 9
    }
   ],
   "source": [
    "regressor.predict(t)"
   ]
  },
  {
   "cell_type": "code",
   "execution_count": null,
   "metadata": {},
   "outputs": [],
   "source": []
  }
 ]
}