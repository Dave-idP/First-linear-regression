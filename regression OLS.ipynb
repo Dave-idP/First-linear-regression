{
 "metadata": {
  "language_info": {
   "codemirror_mode": {
    "name": "ipython",
    "version": 3
   },
   "file_extension": ".py",
   "mimetype": "text/x-python",
   "name": "python",
   "nbconvert_exporter": "python",
   "pygments_lexer": "ipython3",
   "version": "3.7.7-final"
  },
  "orig_nbformat": 2,
  "kernelspec": {
   "name": "python3",
   "display_name": "Python 3.7.7 64-bit ('watergate': conda)",
   "metadata": {
    "interpreter": {
     "hash": "5c5da34c7a7f29f48d37b97c0200a935766484cf51db035f04b87fecad5c3188"
    }
   }
  }
 },
 "nbformat": 4,
 "nbformat_minor": 2,
 "cells": [
  {
   "cell_type": "code",
   "execution_count": 1,
   "metadata": {},
   "outputs": [],
   "source": [
    "import pandas as pd \n",
    "import numpy as np \n",
    "import matplotlib.pyplot as plt \n",
    "from sklearn.model_selection import train_test_split \n",
    "from sklearn.linear_model import LinearRegression"
   ]
  },
  {
   "cell_type": "code",
   "execution_count": 2,
   "metadata": {},
   "outputs": [
    {
     "output_type": "execute_result",
     "data": {
      "text/plain": [
       "(   envio_t  numero_cajas  distancia\n",
       " 0    16.68             7        560\n",
       " 1    11.50             3        220\n",
       " 2    12.03             3        340\n",
       " 3    14.88             4         80\n",
       " 4    13.75             6        150,\n",
       " (25, 3))"
      ]
     },
     "metadata": {},
     "execution_count": 2
    }
   ],
   "source": [
    "url = 'C:/Users/Dave/Pictures/linearregre/envio.csv'\n",
    "dataset = pd.read_csv(url, sep = ';')\n",
    "dataset.head(), dataset.shape"
   ]
  },
  {
   "cell_type": "code",
   "execution_count": 3,
   "metadata": {},
   "outputs": [],
   "source": [
    "inter = np.ones(25, dtype = int).reshape(1, -1)\n",
    "inter = np.transpose(inter)"
   ]
  },
  {
   "cell_type": "code",
   "execution_count": 4,
   "metadata": {},
   "outputs": [],
   "source": [
    "X_matrix = dataset.iloc[:,1:].values\n",
    "Y = dataset.iloc[:,:-2].values"
   ]
  },
  {
   "cell_type": "code",
   "execution_count": 5,
   "metadata": {},
   "outputs": [
    {
     "output_type": "execute_result",
     "data": {
      "text/plain": [
       "array([[   1,    7,  560],\n",
       "       [   1,    3,  220],\n",
       "       [   1,    3,  340],\n",
       "       [   1,    4,   80],\n",
       "       [   1,    6,  150],\n",
       "       [   1,    7,  330],\n",
       "       [   1,    2,  110],\n",
       "       [   1,    7,  210],\n",
       "       [   1,   30, 1460],\n",
       "       [   1,    5,  605],\n",
       "       [   1,   16,  688],\n",
       "       [   1,   10,  215],\n",
       "       [   1,    4,  255],\n",
       "       [   1,    6,  462],\n",
       "       [   1,    9,  448],\n",
       "       [   1,   10,  776],\n",
       "       [   1,    6,  200],\n",
       "       [   1,    7,  132],\n",
       "       [   1,    3,   36],\n",
       "       [   1,   17,  770],\n",
       "       [   1,   10,  140],\n",
       "       [   1,   26,  810],\n",
       "       [   1,    9,  450],\n",
       "       [   1,    8,  635],\n",
       "       [   1,    4,  150]], dtype=int64)"
      ]
     },
     "metadata": {},
     "execution_count": 5
    }
   ],
   "source": [
    "X = np.concatenate((inter, X_matrix), axis =1)\r\n",
    "X = np.round(X)\r\n",
    "X"
   ]
  },
  {
   "cell_type": "code",
   "execution_count": 6,
   "metadata": {},
   "outputs": [
    {
     "output_type": "execute_result",
     "data": {
      "text/plain": [
       "array([[   1,    1,    1,    1,    1,    1,    1,    1,    1,    1,    1,\n",
       "           1,    1,    1,    1,    1,    1,    1,    1,    1,    1,    1,\n",
       "           1,    1,    1],\n",
       "       [   7,    3,    3,    4,    6,    7,    2,    7,   30,    5,   16,\n",
       "          10,    4,    6,    9,   10,    6,    7,    3,   17,   10,   26,\n",
       "           9,    8,    4],\n",
       "       [ 560,  220,  340,   80,  150,  330,  110,  210, 1460,  605,  688,\n",
       "         215,  255,  462,  448,  776,  200,  132,   36,  770,  140,  810,\n",
       "         450,  635,  150]], dtype=int64)"
      ]
     },
     "metadata": {},
     "execution_count": 6
    }
   ],
   "source": [
    "X_t = np.transpose(X)\n",
    "X_t"
   ]
  },
  {
   "cell_type": "code",
   "execution_count": 7,
   "metadata": {},
   "outputs": [
    {
     "output_type": "execute_result",
     "data": {
      "text/plain": [
       "array([[     25,     219,   10232],\n",
       "       [    219,    3055,  133899],\n",
       "       [  10232,  133899, 6725688]], dtype=int64)"
      ]
     },
     "metadata": {},
     "execution_count": 7
    }
   ],
   "source": [
    "trans = np.matmul(X_t, X)\n",
    "trans"
   ]
  },
  {
   "cell_type": "code",
   "execution_count": 8,
   "metadata": {},
   "outputs": [
    {
     "output_type": "execute_result",
     "data": {
      "text/plain": [
       "array([[   559.6 ],\n",
       "       [  7375.44],\n",
       "       [337071.69]])"
      ]
     },
     "metadata": {},
     "execution_count": 8
    }
   ],
   "source": [
    "vec = np.matmul(X_t, Y)\n",
    "vec"
   ]
  },
  {
   "cell_type": "code",
   "execution_count": 9,
   "metadata": {},
   "outputs": [],
   "source": [
    "inv = np.linalg.inv(trans)"
   ]
  },
  {
   "cell_type": "code",
   "execution_count": 10,
   "metadata": {},
   "outputs": [
    {
     "output_type": "execute_result",
     "data": {
      "text/plain": [
       "array([[2.34123115],\n",
       "       [1.61590721],\n",
       "       [0.01438483]])"
      ]
     },
     "metadata": {},
     "execution_count": 10
    }
   ],
   "source": [
    "Beta = np.matmul(inv, vec)\n",
    "Beta"
   ]
  },
  {
   "cell_type": "code",
   "execution_count": 14,
   "metadata": {},
   "outputs": [],
   "source": [
    "t = np.array([[1, 4, 400]])"
   ]
  },
  {
   "cell_type": "code",
   "execution_count": 15,
   "metadata": {},
   "outputs": [
    {
     "output_type": "execute_result",
     "data": {
      "text/plain": [
       "array([[14.55879049]])"
      ]
     },
     "metadata": {},
     "execution_count": 15
    }
   ],
   "source": [
    "prediction = np.matmul(t, Beta)\n",
    "prediction"
   ]
  },
  {
   "cell_type": "code",
   "execution_count": null,
   "metadata": {},
   "outputs": [],
   "source": []
  },
  {
   "cell_type": "code",
   "execution_count": null,
   "metadata": {},
   "outputs": [],
   "source": []
  }
 ]
}